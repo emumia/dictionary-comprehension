{
 "cells": [
  {
   "cell_type": "markdown",
   "id": "46cd930c",
   "metadata": {},
   "source": [
    "# dictionary comprehension"
   ]
  },
  {
   "cell_type": "code",
   "execution_count": 5,
   "id": "fb053491",
   "metadata": {},
   "outputs": [
    {
     "name": "stdout",
     "output_type": "stream",
     "text": [
      "{101: 'muhammad', 102: 'Imarn'}\n"
     ]
    }
   ],
   "source": [
    "# with dictionary comprehention\n",
    "lst = [(101,\"muhammad\"),(102,\"Imarn\")]\n",
    "dict1={k:v for k,v in lst}\n",
    "print(dict1)"
   ]
  },
  {
   "cell_type": "code",
   "execution_count": 3,
   "id": "ab34dcce",
   "metadata": {},
   "outputs": [
    {
     "name": "stdout",
     "output_type": "stream",
     "text": [
      "{0: 0, 1: 2, 2: 4, 3: 6, 4: 8, 5: 10, 6: 12, 7: 14, 8: 16, 9: 18}\n"
     ]
    }
   ],
   "source": [
    "# without dictionary comprehention\n",
    "dict1={}\n",
    "for n in range(10):\n",
    "    dict1[n]=n*2\n",
    "print(dict1)\n"
   ]
  },
  {
   "cell_type": "code",
   "execution_count": 4,
   "id": "cc91f57b",
   "metadata": {},
   "outputs": [
    {
     "name": "stdout",
     "output_type": "stream",
     "text": [
      "{0: 0, 1: 2, 2: 4, 3: 6, 4: 8, 5: 10, 6: 12, 7: 14, 8: 16, 9: 18}\n"
     ]
    }
   ],
   "source": [
    "# same code with dictionary comprehention\n",
    "dict2={n:n*2 for n in range(10)}\n",
    "print(dict2)"
   ]
  },
  {
   "cell_type": "markdown",
   "id": "5a3ea596",
   "metadata": {},
   "source": [
    "#  dictionary comprehension(conditional)"
   ]
  },
  {
   "cell_type": "code",
   "execution_count": 7,
   "id": "6a41ea4b",
   "metadata": {},
   "outputs": [
    {
     "name": "stdout",
     "output_type": "stream",
     "text": [
      "{0: 0, 2: 4, 4: 8, 6: 12, 8: 16}\n"
     ]
    }
   ],
   "source": [
    "#without dictionary comprehension(conditional)\n",
    "dict1={}\n",
    "for n in range(10):\n",
    "    if n%2==0:\n",
    "        dict1[n]=n*2\n",
    "print(dict1)        \n",
    "        "
   ]
  },
  {
   "cell_type": "code",
   "execution_count": 8,
   "id": "02d78600",
   "metadata": {},
   "outputs": [
    {
     "name": "stdout",
     "output_type": "stream",
     "text": [
      "{0: 0, 2: 4, 4: 8, 6: 12, 8: 16}\n"
     ]
    }
   ],
   "source": [
    "# with dictionary comprehention (conditional)\n",
    "dict2={n:n*2 for n in range(10)if n%2==0}\n",
    "print(dict2)"
   ]
  },
  {
   "cell_type": "markdown",
   "id": "451bfc1c",
   "metadata": {},
   "source": [
    "# Dictionary comprehention(nested conditional)"
   ]
  },
  {
   "cell_type": "code",
   "execution_count": 9,
   "id": "c171ba13",
   "metadata": {},
   "outputs": [
    {
     "name": "stdout",
     "output_type": "stream",
     "text": [
      "{0: 0, 6: 12}\n"
     ]
    }
   ],
   "source": [
    "#without Dictionary comprehention(nested conditional)\n",
    "dict1={}\n",
    "for n in range(10):\n",
    "    if n%2==0:\n",
    "        if n%3==0:\n",
    "            dict1[n]=n*2\n",
    "print(dict1)            "
   ]
  },
  {
   "cell_type": "code",
   "execution_count": 10,
   "id": "4c809926",
   "metadata": {},
   "outputs": [
    {
     "name": "stdout",
     "output_type": "stream",
     "text": [
      "{0: 0, 6: 12}\n"
     ]
    }
   ],
   "source": [
    "#with Dictionary comprehention(nested conditional)\n",
    "dict2={n:n*2 for n in range(10) if n%2==0 if n%3==0}\n",
    "print(dict2)\n"
   ]
  },
  {
   "cell_type": "markdown",
   "id": "6993e11e",
   "metadata": {},
   "source": [
    "# dictionary comprehension(if - else)"
   ]
  },
  {
   "cell_type": "code",
   "execution_count": 11,
   "id": "f6e7b808",
   "metadata": {},
   "outputs": [
    {
     "name": "stdout",
     "output_type": "stream",
     "text": [
      "{0: 0, 1: 'Not accepted', 2: 2, 3: 'Not accepted', 4: 4, 5: 'Not accepted', 6: 6, 7: 'Not accepted', 8: 8, 9: 'Not accepted'}\n"
     ]
    }
   ],
   "source": [
    "#without Dictionary comprehension\n",
    "dict1={}\n",
    "for n in range(10):\n",
    "    if n%2==0:\n",
    "        dict1[n]=n\n",
    "    else:\n",
    "        dict1[n]=\"Not accepted\"\n",
    "print(dict1)        "
   ]
  },
  {
   "cell_type": "code",
   "execution_count": 17,
   "id": "d6122fa3",
   "metadata": {},
   "outputs": [
    {
     "name": "stdout",
     "output_type": "stream",
     "text": [
      "{0: 0, 1: 'not accepted', 2: 2, 3: 'not accepted', 4: 4, 5: 'not accepted', 6: 6, 7: 'not accepted', 8: 8, 9: 'not accepted'}\n"
     ]
    }
   ],
   "source": [
    "#with Dictionary comprehension\n",
    "dict2={n:(n if n%2==0 else \"not accepted\") for n in range(10)}\n",
    "print(dict2)"
   ]
  },
  {
   "cell_type": "code",
   "execution_count": null,
   "id": "23cb0de5",
   "metadata": {},
   "outputs": [],
   "source": []
  }
 ],
 "metadata": {
  "kernelspec": {
   "display_name": "Python 3",
   "language": "python",
   "name": "python3"
  },
  "language_info": {
   "codemirror_mode": {
    "name": "ipython",
    "version": 3
   },
   "file_extension": ".py",
   "mimetype": "text/x-python",
   "name": "python",
   "nbconvert_exporter": "python",
   "pygments_lexer": "ipython3",
   "version": "3.8.8"
  }
 },
 "nbformat": 4,
 "nbformat_minor": 5
}
